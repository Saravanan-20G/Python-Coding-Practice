{
 "cells": [
  {
   "cell_type": "markdown",
   "metadata": {},
   "source": [
    "Task\n",
    "Given an integer, , perform the following conditional actions:\n",
    "\n",
    "If  is odd, print Weird\n",
    "If  is even and in the inclusive range of  to , print Not Weird\n",
    "If  is even and in the inclusive range of  to , print Weird\n",
    "If  is even and greater than , print Not Weird\n",
    "Input Format\n",
    "\n",
    "A single line containing a positive integer, .\n",
    "\n",
    "Constraints\n",
    "\n",
    "Output Format\n",
    "\n",
    "Print Weird if the number is weird. Otherwise, print Not Weird."
   ]
  },
  {
   "cell_type": "code",
   "execution_count": 2,
   "metadata": {},
   "outputs": [
    {
     "name": "stdout",
     "output_type": "stream",
     "text": [
      "Weird\n"
     ]
    }
   ],
   "source": [
    "\n",
    "import math\n",
    "import os\n",
    "import random\n",
    "import re\n",
    "import sys\n",
    "\n",
    "\n",
    "\n",
    "if __name__ == '__main__':\n",
    "    n = int(input().strip())\n",
    "\n",
    "def check_weird(n):\n",
    "    if n % 2 != 0:\n",
    "        print(\"Weird\")\n",
    "    elif n % 2 == 0 and 2 <= n <= 5:\n",
    "        print(\"Not Weird\")\n",
    "    elif n % 2 == 0 and 6 <= n <= 20:\n",
    "        print(\"Weird\")\n",
    "    elif n % 2 == 0 and n > 20:\n",
    "        print(\"Not Weird\")\n",
    "        \n",
    "check_weird(n)"
   ]
  },
  {
   "cell_type": "markdown",
   "metadata": {},
   "source": [
    "Task\n",
    "The provided code stub reads and integer, , from STDIN. For all non-negative integers , print .\n",
    "\n",
    "Example\n",
    "\n",
    "The list of non-negative integers that are less than  is . Print the square of each number on a separate line.\n",
    "\n",
    "0\n",
    "1\n",
    "4\n",
    "Input Format\n",
    "\n",
    "The first and only line contains the integer, .\n",
    "\n",
    "Constraints\n",
    "\n",
    "\n",
    "Output Format\n",
    "\n",
    "Print  lines, one corresponding to each ."
   ]
  },
  {
   "cell_type": "code",
   "execution_count": 4,
   "metadata": {},
   "outputs": [
    {
     "name": "stdout",
     "output_type": "stream",
     "text": [
      "0\n",
      "1\n",
      "4\n"
     ]
    }
   ],
   "source": [
    "\n",
    "n = int(input())\n",
    "for i in range(n):\n",
    "    print(i*i)"
   ]
  },
  {
   "cell_type": "markdown",
   "metadata": {},
   "source": [
    "An extra day is added to the calendar almost every four years as February 29, and the day is called a leap day. It corrects the calendar for the fact that our planet takes approximately 365.25 days to orbit the sun. A leap year contains a leap day.\n",
    "\n",
    "In the Gregorian calendar, three conditions are used to identify leap years:\n",
    "\n",
    "The year can be evenly divided by 4, is a leap year, unless:\n",
    "The year can be evenly divided by 100, it is NOT a leap year, unless:\n",
    "The year is also evenly divisible by 400. Then it is a leap year.\n",
    "This means that in the Gregorian calendar, the years 2000 and 2400 are leap years, while 1800, 1900, 2100, 2200, 2300 and 2500 are NOT leap years. Source\n",
    "\n",
    "Task\n",
    "\n",
    "Given a year, determine whether it is a leap year. If it is a leap year, return the Boolean True, otherwise return False.\n",
    "\n",
    "Note that the code stub provided reads from STDIN and passes arguments to the is_leap function. It is only necessary to complete the is_leap function."
   ]
  },
  {
   "cell_type": "code",
   "execution_count": 6,
   "metadata": {},
   "outputs": [
    {
     "name": "stdout",
     "output_type": "stream",
     "text": [
      "True\n"
     ]
    }
   ],
   "source": [
    "def is_leap(year):\n",
    "    leap = False\n",
    "    \n",
    "    # Write your logic here\n",
    "    if (year%4==0 and year%100 !=0) or (year%400==0):\n",
    "        leap=True\n",
    "    return leap\n",
    "\n",
    "year = int(input())\n",
    "print(is_leap(year))"
   ]
  },
  {
   "cell_type": "markdown",
   "metadata": {},
   "source": [
    "The included code stub will read an integer, , from STDIN.\n",
    "\n",
    "Without using any string methods, try to print the following:\n",
    "\n",
    "\n",
    "Note that \"\" represents the consecutive values in between.\n",
    "\n",
    "Example\n",
    "\n",
    "Print the string .\n",
    "\n",
    "Input Format\n",
    "\n",
    "The first line contains an integer .\n",
    "\n",
    "Constraints\n",
    "\n",
    "\n",
    "Output Format\n",
    "\n",
    "Print the list of integers from  through  as a string, without spaces."
   ]
  },
  {
   "cell_type": "code",
   "execution_count": 7,
   "metadata": {},
   "outputs": [
    {
     "name": "stdout",
     "output_type": "stream",
     "text": [
      "1234"
     ]
    }
   ],
   "source": [
    "n = int(input())\n",
    "for i in range(1,n+1):\n",
    "    print(i,end='')"
   ]
  },
  {
   "cell_type": "markdown",
   "metadata": {},
   "source": [
    "Task\n",
    "\n",
    "You are given two integer arrays of size X and X ( &  are rows, and  is the column). Your task is to concatenate the arrays along axis .\n",
    "\n",
    "Input Format\n",
    "\n",
    "The first line contains space separated integers ,  and .\n",
    "The next  lines contains the space separated elements of the  columns.\n",
    "After that, the next  lines contains the space separated elements of the  columns.\n",
    "\n",
    "Output Format\n",
    "\n",
    "Print the concatenated array of size X.\n",
    "Print the concatenated array of size X.\n",
    "\n",
    "Task\n",
    "\n",
    "You are given two integer arrays of size X and X ( &  are rows, and  is the column). Your task is to concatenate the arrays along axis .\n",
    "\n",
    "Input Format\n",
    "\n",
    "The first line contains space separated integers ,  and .\n",
    "The next  lines contains the space separated elements of the  columns.\n",
    "After that, the next  lines contains the space separated elements of the  columns.\n",
    "\n",
    "Output Format\n",
    "\n",
    "Print the concatenated array of size X.\n",
    "\n",
    "Sample Input\n",
    "\n",
    "4 3 2\n",
    "1 2\n",
    "1 2 \n",
    "1 2\n",
    "1 2\n",
    "3 4\n",
    "3 4\n",
    "3 4 \n",
    "Sample Output\n",
    "\n",
    "[[1 2]\n",
    " [1 2]\n",
    " [1 2]\n",
    " [1 2]\n",
    " [3 4]\n",
    " [3 4]\n",
    " [3 4]] \n",
    "Language\n",
    "Python 3\n",
    "More\n",
    "1234567891011121314151617181920\n",
    "\n",
    "# Concatenating along axis 0\n",
    "result = np.concatenate((array1, array2), axis=0)\n",
    "\n",
    "# Printing the result\n",
    "print(result)\n",
    "\n",
    "\n",
    "\n",
    "\n",
    "\n",
    "\n",
    "\n",
    "Line: 17 Col: 1\n",
    "\n",
    "Test against custom input\n",
    "Python\n",
    "You have earned 20.00 points!\n",
    "You are now 15 points away from the 3rd star for your python badge.\n",
    "63%95/110\n",
    "Congratulations\n",
    "You solved this challenge. Would you like to challenge your friends?Share on FacebookShare on TwitterShare on LinkedIn\n",
    "\n",
    "Test case 0\n",
    "\n",
    "Test case 1\n",
    "\n",
    "Test case 2\n",
    "Compiler Message\n",
    "Success\n",
    "Input (stdin)\n",
    "4 3 2\n",
    "1 2\n",
    "1 2\n",
    "1 2\n",
    "1 2\n",
    "3 4\n",
    "3 4\n",
    "3 4\n",
    "Expected Output\n",
    "[[1 2]\n",
    " [1 2]\n",
    " [1 2]\n",
    " [1 2]\n",
    " [3 4]\n",
    " [3 4]\n",
    " [3 4]]\n"
   ]
  },
  {
   "cell_type": "code",
   "execution_count": null,
   "metadata": {},
   "outputs": [],
   "source": [
    "import numpy as np\n",
    "\n",
    "# Reading the first line containing n, m, p\n",
    "n, m, p = map(int, input().strip().split())\n",
    "\n",
    "# Reading the next n lines into the first array\n",
    "array1 = np.array([input().strip().split() for _ in range(n)], int)\n",
    "\n",
    "# Reading the next m lines into the second array\n",
    "array2 = np.array([input().strip().split() for _ in range(m)], int)\n",
    "\n",
    "# Concatenating along axis 0\n",
    "result = np.concatenate((array1, array2), axis=0)\n",
    "\n",
    "# Printing the result\n",
    "print(result)\n"
   ]
  },
  {
   "cell_type": "markdown",
   "metadata": {},
   "source": [
    "Task\n",
    "\n",
    "You are given the shape of the array in the form of space-separated integers, each integer representing the size of different dimensions, your task is to print an array of the given shape and integer type using the tools numpy.zeros and numpy.ones.\n",
    "\n",
    "Input Format\n",
    "\n",
    "A single line containing the space-separated integers.\n",
    "\n",
    "Constraints\n",
    "\n",
    "\n",
    "Output Format\n",
    "\n",
    "First, print the array using the numpy.zeros tool and then print the array with the numpy.ones tool."
   ]
  },
  {
   "cell_type": "code",
   "execution_count": 15,
   "metadata": {},
   "outputs": [
    {
     "name": "stdout",
     "output_type": "stream",
     "text": [
      "[[[0 0 0]\n",
      "  [0 0 0]\n",
      "  [0 0 0]]\n",
      "\n",
      " [[0 0 0]\n",
      "  [0 0 0]\n",
      "  [0 0 0]]\n",
      "\n",
      " [[0 0 0]\n",
      "  [0 0 0]\n",
      "  [0 0 0]]]\n",
      "[[[1 1 1]\n",
      "  [1 1 1]\n",
      "  [1 1 1]]\n",
      "\n",
      " [[1 1 1]\n",
      "  [1 1 1]\n",
      "  [1 1 1]]\n",
      "\n",
      " [[1 1 1]\n",
      "  [1 1 1]\n",
      "  [1 1 1]]]\n"
     ]
    }
   ],
   "source": [
    "import numpy as np\n",
    "\n",
    "# Reading the input and converting it to a tuple of integers\n",
    "shape = tuple(map(int, input().strip().split()))\n",
    "\n",
    "# Creating an array of zeros with the given shape\n",
    "zeros_array = np.zeros(shape, dtype=int)\n",
    "print(zeros_array)\n",
    "\n",
    "# Creating an array of ones with the given shape\n",
    "ones_array = np.ones(shape, dtype=int)\n",
    "print(ones_array)\n"
   ]
  }
 ],
 "metadata": {
  "kernelspec": {
   "display_name": ".venv",
   "language": "python",
   "name": "python3"
  },
  "language_info": {
   "codemirror_mode": {
    "name": "ipython",
    "version": 3
   },
   "file_extension": ".py",
   "mimetype": "text/x-python",
   "name": "python",
   "nbconvert_exporter": "python",
   "pygments_lexer": "ipython3",
   "version": "3.11.9"
  }
 },
 "nbformat": 4,
 "nbformat_minor": 2
}
