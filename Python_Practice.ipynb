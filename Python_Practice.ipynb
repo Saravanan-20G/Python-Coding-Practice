{
 "cells": [
  {
   "cell_type": "markdown",
   "metadata": {},
   "source": [
    "Given a number N. There will be N numbers given. Print the smallest number in the given list after each input(Hint use priority queue).\n",
    "Input Size : N <= 100000\n",
    "Sample Testcase :\n",
    "INPUT\n",
    "4\n",
    "3 2 4 1\n",
    "OUTPUT\n",
    "3 2 2 1"
   ]
  },
  {
   "cell_type": "code",
   "execution_count": 1,
   "metadata": {},
   "outputs": [
    {
     "name": "stdout",
     "output_type": "stream",
     "text": [
      "3 2 2 1\n"
     ]
    }
   ],
   "source": [
    "import heapq\n",
    "\n",
    "def find_smallest_after_each_input(numbers):\n",
    "    min_heap = []\n",
    "    result = []\n",
    "\n",
    "    for number in numbers:\n",
    "        heapq.heappush(min_heap, number)\n",
    "        result.append(min_heap[0])\n",
    "    \n",
    "    return result\n",
    "\n",
    "# Sample Testcase\n",
    "N = 4\n",
    "numbers = [3, 2, 4, 1]\n",
    "output = find_smallest_after_each_input(numbers)\n",
    "print(\" \".join(map(str, output)))  # Expected output: 3 2 2 1\n"
   ]
  },
  {
   "cell_type": "markdown",
   "metadata": {},
   "source": [
    "You are given an array of digits. Your task is to print the digit with maximum frequency.\n",
    "\n",
    "Input Description:\n",
    "You are given length of array ’n’,next line contains n space separated numbers.\n",
    "\n",
    "Output Description:\n",
    "Print the number with maximum frequency. If two number have equal freqency prin the number that comes first\n",
    "\n",
    "Sample Input :\n",
    "7\n",
    "1 2 3 4 4 4 5\n",
    "Sample Output :\n",
    "4"
   ]
  },
  {
   "cell_type": "code",
   "execution_count": null,
   "metadata": {},
   "outputs": [],
   "source": [
    "# Function to find the digit with the maximum frequency\n",
    "def find_max_frequency_digit(n, digits):\n",
    "    # Dictionary to store frequency of each digit\n",
    "    frequency = {}\n",
    "    \n",
    "    # Iterate through the digits to count the frequency\n",
    "    for digit in digits:\n",
    "        if digit in frequency:\n",
    "            frequency[digit] += 1\n",
    "        else:\n",
    "            frequency[digit] = 1\n",
    "            \n",
    "    # Variables to keep track of the max frequency and corresponding digit\n",
    "    max_freq = -1\n",
    "    max_freq_digit = None\n",
    "    \n",
    "    # Iterate through the digits again to find the first digit with max frequency\n",
    "    for digit in digits:\n",
    "        if frequency[digit] > max_freq:\n",
    "            max_freq = frequency[digit]\n",
    "            max_freq_digit = digit\n",
    "            \n",
    "    return max_freq_digit\n",
    "\n",
    "# Input reading\n",
    "n = int(input())\n",
    "digits = input().split()\n",
    "\n",
    "# Find and print the digit with the maximum frequency\n",
    "result = find_max_frequency_digit(n, digits)\n",
    "print(result)\n"
   ]
  }
 ],
 "metadata": {
  "kernelspec": {
   "display_name": ".venv",
   "language": "python",
   "name": "python3"
  },
  "language_info": {
   "codemirror_mode": {
    "name": "ipython",
    "version": 3
   },
   "file_extension": ".py",
   "mimetype": "text/x-python",
   "name": "python",
   "nbconvert_exporter": "python",
   "pygments_lexer": "ipython3",
   "version": "3.11.9"
  }
 },
 "nbformat": 4,
 "nbformat_minor": 2
}
