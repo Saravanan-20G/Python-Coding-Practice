{
 "cells": [
  {
   "cell_type": "markdown",
   "metadata": {},
   "source": [
    "Given a number N. There will be N numbers given. Print the smallest number in the given list after each input(Hint use priority queue).\n",
    "Input Size : N <= 100000\n",
    "Sample Testcase :\n",
    "INPUT\n",
    "4\n",
    "3 2 4 1\n",
    "OUTPUT\n",
    "3 2 2 1"
   ]
  },
  {
   "cell_type": "code",
   "execution_count": 1,
   "metadata": {},
   "outputs": [
    {
     "name": "stdout",
     "output_type": "stream",
     "text": [
      "3 2 2 1\n"
     ]
    }
   ],
   "source": [
    "import heapq\n",
    "\n",
    "def find_smallest_after_each_input(numbers):\n",
    "    min_heap = []\n",
    "    result = []\n",
    "\n",
    "    for number in numbers:\n",
    "        heapq.heappush(min_heap, number)\n",
    "        result.append(min_heap[0])\n",
    "    \n",
    "    return result\n",
    "\n",
    "# Sample Testcase\n",
    "N = 4\n",
    "numbers = [3, 2, 4, 1]\n",
    "output = find_smallest_after_each_input(numbers)\n",
    "print(\" \".join(map(str, output)))  # Expected output: 3 2 2 1\n"
   ]
  },
  {
   "cell_type": "markdown",
   "metadata": {},
   "source": [
    "You are given an array of digits. Your task is to print the digit with maximum frequency.\n",
    "\n",
    "Input Description:\n",
    "You are given length of array ’n’,next line contains n space separated numbers.\n",
    "\n",
    "Output Description:\n",
    "Print the number with maximum frequency. If two number have equal freqency prin the number that comes first\n",
    "\n",
    "Sample Input :\n",
    "7\n",
    "1 2 3 4 4 4 5\n",
    "Sample Output :\n",
    "4"
   ]
  },
  {
   "cell_type": "code",
   "execution_count": null,
   "metadata": {},
   "outputs": [],
   "source": [
    "# Function to find the digit with the maximum frequency\n",
    "def find_max_frequency_digit(n, digits):\n",
    "    # Dictionary to store frequency of each digit\n",
    "    frequency = {}\n",
    "    \n",
    "    # Iterate through the digits to count the frequency\n",
    "    for digit in digits:\n",
    "        if digit in frequency:\n",
    "            frequency[digit] += 1\n",
    "        else:\n",
    "            frequency[digit] = 1\n",
    "            \n",
    "    # Variables to keep track of the max frequency and corresponding digit\n",
    "    max_freq = -1\n",
    "    max_freq_digit = None\n",
    "    \n",
    "    # Iterate through the digits again to find the first digit with max frequency\n",
    "    for digit in digits:\n",
    "        if frequency[digit] > max_freq:\n",
    "            max_freq = frequency[digit]\n",
    "            max_freq_digit = digit\n",
    "            \n",
    "    return max_freq_digit\n",
    "\n",
    "# Input reading\n",
    "n = int(input())\n",
    "digits = input().split()\n",
    "\n",
    "# Find and print the digit with the maximum frequency\n",
    "result = find_max_frequency_digit(n, digits)\n",
    "print(result)\n"
   ]
  },
  {
   "cell_type": "markdown",
   "metadata": {},
   "source": [
    "you are given with ‘arasu’ series(shown in example).You have to understand it and you will be given a number ‘n’ ,you have to print the series till n numbers.\n",
    "\n",
    "Input Description:\n",
    "You are given a number n;\n",
    "\n",
    "Output Description:\n",
    "Print series till nth number\n",
    "\n",
    "Sample Input :\n",
    "4\n",
    "Sample Output :\n",
    "2 5 10 17\n"
   ]
  },
  {
   "cell_type": "code",
   "execution_count": null,
   "metadata": {},
   "outputs": [],
   "source": [
    "def generate_arasu_series(n):\n",
    "    series = []\n",
    "    current = 2\n",
    "    series.append(current)\n",
    "    \n",
    "    for i in range(1, n):\n",
    "        current += (2 * i + 1)\n",
    "        series.append(current)\n",
    "    \n",
    "    return series\n",
    "\n",
    "# Input reading\n",
    "n = int(input(\"Enter a number: \"))\n",
    "\n",
    "# Generate and print the series till n terms\n",
    "result = generate_arasu_series(n)\n",
    "print(\" \".join(map(str, result)))\n"
   ]
  },
  {
   "cell_type": "markdown",
   "metadata": {},
   "source": [
    "You are given an array.Your task is to print the length of longest consecutive subsequence. A longest consecutive subsequence is such that next element differ from previous by 1.\n",
    "\n",
    "Input Description:\n",
    "You are given with the length of array. Next line contains n space separated integers.\n",
    "\n",
    "Output Description:\n",
    "Print the length of longest consecutive subsequence.\n",
    "\n",
    "Sample Input :\n",
    "8\n",
    "1 6 5 3 2 4 10 12\n",
    "Sample Output :\n",
    "6"
   ]
  },
  {
   "cell_type": "code",
   "execution_count": null,
   "metadata": {},
   "outputs": [],
   "source": [
    "def longest_consecutive_subsequence(arr):\n",
    "    # Convert array to set for O(1) lookups\n",
    "    num_set = set(arr)\n",
    "    max_length = 0\n",
    "    \n",
    "    for num in num_set:\n",
    "        # Check if num is the start of a sequence\n",
    "        if num - 1 not in num_set:\n",
    "            current_num = num\n",
    "            current_length = 1\n",
    "            \n",
    "            # Check for the next numbers in the sequence\n",
    "            while current_num + 1 in num_set:\n",
    "                current_num += 1\n",
    "                current_length += 1\n",
    "                \n",
    "            # Update the maximum length found\n",
    "            max_length = max(max_length, current_length)\n",
    "    \n",
    "    return max_length\n",
    "\n",
    "# Input reading\n",
    "n = int(input())\n",
    "arr = list(map(int, input().split()))\n",
    "\n",
    "# Find and print the length of longest consecutive subsequence\n",
    "result = longest_consecutive_subsequence(arr)\n",
    "print(result)\n"
   ]
  },
  {
   "cell_type": "markdown",
   "metadata": {},
   "source": [
    "Given a number n followed by n numbers print the number less than 15 if there is no number exits print -1\n",
    "\n",
    "Input Description:\n",
    "0<n<100 Given a number n Followed by n number in next line\n",
    "\n",
    "Output Description:\n",
    "Print the number which is less than 15 if there is no number exits print -1\n",
    "\n",
    "Sample Input :\n",
    "3\n",
    "5 7 4\n",
    "Sample Output :\n",
    "5 7 4"
   ]
  },
  {
   "cell_type": "code",
   "execution_count": 4,
   "metadata": {},
   "outputs": [
    {
     "name": "stdout",
     "output_type": "stream",
     "text": [
      "-1\n"
     ]
    }
   ],
   "source": [
    "n=int(input())\n",
    "\n",
    "number=list(map(int,input().split()))\n",
    "\n",
    "filter=[num for num in number if num < 15]\n",
    "\n",
    "if filter:\n",
    "    print(\" \".join(map(str,filter)))\n",
    "else:\n",
    "    print(-1)"
   ]
  },
  {
   "cell_type": "markdown",
   "metadata": {},
   "source": [
    "Given a year, find whether leap year or not?\n",
    "\n",
    "Input Description:\n",
    "Given a 4 digit number\n",
    "\n",
    "Output Description:\n",
    "Print leap year or not a leap year\n",
    "\n",
    "Sample Input :\n",
    "1996\n",
    "Sample Output :\n",
    "leap year"
   ]
  },
  {
   "cell_type": "code",
   "execution_count": 6,
   "metadata": {},
   "outputs": [
    {
     "name": "stdout",
     "output_type": "stream",
     "text": [
      "not a leap year\n"
     ]
    }
   ],
   "source": [
    "year=int(input().strip())\n",
    "\n",
    "if (year%4==0 and year%100 !=0) or (year%400==0):\n",
    "    print(\"leap year\")\n",
    "else:\n",
    "    print(\"not a leap year\")"
   ]
  },
  {
   "cell_type": "markdown",
   "metadata": {},
   "source": [
    "Given a string convert string into lower case\n",
    "\n",
    "Input Description:\n",
    "Given a string\n",
    "\n",
    "Output Description:\n",
    "Print string into lower case\n",
    "\n",
    "Sample Input :\n",
    "Guvi Geek\n",
    "Sample Output :\n",
    "guvi geek"
   ]
  },
  {
   "cell_type": "code",
   "execution_count": null,
   "metadata": {},
   "outputs": [],
   "source": [
    "string=input()\n",
    "\n",
    "lstring=string.lower()\n",
    "\n",
    "print(lstring)"
   ]
  },
  {
   "cell_type": "markdown",
   "metadata": {},
   "source": [
    " Given a number n,m and k separated by a space followed by n numbers print the numbers between this two numbers listed in a array if there is no number exits print -1\n",
    "\n",
    "Input Description:\n",
    "number n, m and k separated by a space 0<n<1000 0<m<1000 0<k<1000 m<k Given a number n Followed by n number in next line\n",
    "\n",
    "Output Description:\n",
    "print the numbers between this two numbers listed in a array if there is no number exits print -1\n",
    "\n",
    "Sample Input :\n",
    "3 5 8\n",
    "5 7 4\n",
    "Sample Output :\n",
    "7\n"
   ]
  },
  {
   "cell_type": "code",
   "execution_count": null,
   "metadata": {},
   "outputs": [],
   "source": [
    "# Read n, m, and k\n",
    "n, m, k = map(int, input().strip().split())\n",
    "\n",
    "# Read the list of n numbers\n",
    "numbers = list(map(int, input().strip().split()))\n",
    "\n",
    "# Filter numbers strictly between m and k\n",
    "filtered_numbers = [num for num in numbers if m < num < k]\n",
    "\n",
    "# Print the result\n",
    "if filtered_numbers:\n",
    "    print(\" \".join(map(str, filtered_numbers)))\n",
    "else:\n",
    "    print(-1)\n",
    "  "
   ]
  },
  {
   "cell_type": "markdown",
   "metadata": {},
   "source": [
    "Given a number N, print 'yes' if it is composite else print 'no'.\n",
    "Sample Testcase :\n",
    "INPUT\n",
    "123\n",
    "OUTPUT\n",
    "yes        "
   ]
  },
  {
   "cell_type": "code",
   "execution_count": null,
   "metadata": {},
   "outputs": [],
   "source": [
    "import math\n",
    "\n",
    "# Function to check if a number is composite\n",
    "def is_composite(n):\n",
    "    if n <= 1:\n",
    "        return False\n",
    "    for i in range(2, int(math.sqrt(n)) + 1):\n",
    "        if n % i == 0:\n",
    "            return True\n",
    "    return False\n",
    "\n",
    "# Read the input number\n",
    "N = int(input().strip())\n",
    "\n",
    "# Check if the number is composite and print the result\n",
    "if is_composite(N):\n",
    "    print(\"yes\")\n",
    "else:\n",
    "    print(\"no\")\n",
    "                  "
   ]
  },
  {
   "cell_type": "markdown",
   "metadata": {},
   "source": [
    "Find the minimum among 10 numbers.\n",
    "Sample Testcase :\n",
    "INPUT\n",
    "5 4 3 2 1 7 6 10 8 9\n",
    "OUTPUT\n",
    "1"
   ]
  },
  {
   "cell_type": "code",
   "execution_count": 7,
   "metadata": {},
   "outputs": [
    {
     "name": "stdout",
     "output_type": "stream",
     "text": [
      "1\n"
     ]
    }
   ],
   "source": [
    "numbers=list(map(int,input().strip().split()))\n",
    "\n",
    "minimum_num=min(numbers)\n",
    "print(minimum_num)"
   ]
  },
  {
   "cell_type": "markdown",
   "metadata": {},
   "source": [
    " Joseph was going through topic of strings. He learnt about anagrams. But due to some circumstances he forget ,now he hired you to help him in completing the work.Your task is to tell whether the two given strings are anagrams\n",
    "\n",
    "Input Description:\n",
    "The first line of the input is a string N, the second line of the input is a string M\n",
    "\n",
    "Output Description:\n",
    "Compare the two string input N and M. Print 1 if they are anagram else print 0.\n",
    "\n",
    "Sample Input :\n",
    "abcd\n",
    "cdab\n",
    "Sample Output :\n",
    "1"
   ]
  },
  {
   "cell_type": "code",
   "execution_count": null,
   "metadata": {},
   "outputs": [],
   "source": [
    "N=input().strip()\n",
    "\n",
    "M=input().strip()\n",
    "\n",
    "def anagram(str1,str2):\n",
    "    if len(str1) != len(str2):\n",
    "        return False\n",
    "    return sorted(str1)== sorted(str2)\n",
    "    \n",
    "if anagram(N,M):\n",
    "    print(1)\n",
    "else:\n",
    "    print(0)"
   ]
  },
  {
   "cell_type": "code",
   "execution_count": null,
   "metadata": {},
   "outputs": [],
   "source": [
    "Mani finds himself in a queue of( n) people but is uncertain about his exact position. However, he's confident that there are at least( a) people in front of him and at most( b) people behind him. Mani seeks to determine the number of different positions he could occupy in the queue.\n",
    "\n",
    "Input:\n",
    "\n",
    "The input consists of a single line containing three integers:( n),( a), and( b) (( 0≤a,b<n≤100)). These represent the total number of people in the queue, the minimum number of people in front of Mani, and the maximum number of people behind Mani, respectively.\n",
    "Output:\n",
    "\n",
    "Print a single integer, the number of possible positions Mani could occupy in the queue.\n",
    "Constraints:\n",
    "\n",
    "The queue contains between 1 and 100 people.\n",
    "Mani is certain there are at least 0 people in front of him and at most( n-1) people behind him.\n",
    "Sample input:\n",
    "\n",
    "5 2 3\n",
    "\n",
    "Sample output:\n",
    "\n",
    "3"
   ]
  },
  {
   "cell_type": "code",
   "execution_count": 3,
   "metadata": {},
   "outputs": [
    {
     "name": "stdout",
     "output_type": "stream",
     "text": [
      "1\n"
     ]
    }
   ],
   "source": [
    "def number_of_positions(n, a, b):\n",
    "    min_position = a + 1\n",
    "    max_position = n - b\n",
    "    if min_position > max_position:\n",
    "        return b\n",
    "    return max_position - min_position + 1\n",
    "\n",
    "# Example usage:\n",
    "n = 5\n",
    "a = 4\n",
    "b = 0\n",
    "print(number_of_positions(n, a, b))  # Output: 3\n"
   ]
  },
  {
   "cell_type": "markdown",
   "metadata": {},
   "source": [
    "You are given an array.Your task is to print the length of longest consecutive subsequence. A longest consecutive subsequence is such that next element differ from previous by 1.\n",
    "\n",
    "Input Description:\n",
    "You are given with the length of array. Next line contains n space separated integers.\n",
    "\n",
    "Output Description:\n",
    "Print the length of longest consecutive subsequence.\n",
    "\n",
    "Sample Input :\n",
    "8\n",
    "1 6 5 3 2 4 10 12\n",
    "Sample Output :\n",
    "6"
   ]
  },
  {
   "cell_type": "code",
   "execution_count": null,
   "metadata": {},
   "outputs": [],
   "source": [
    "def longest_consecutive_subsequence(arr):\n",
    "    # Convert array to set to handle duplicates and allow O(1) lookups\n",
    "    num_set = set(arr)\n",
    "    longest_streak = 0\n",
    "\n",
    "    for num in num_set:\n",
    "        # Check if 'num' is the start of a sequence\n",
    "        if num - 1 not in num_set:\n",
    "            current_num = num\n",
    "            current_streak = 1\n",
    "\n",
    "            # Count consecutive numbers\n",
    "            while current_num + 1 in num_set:\n",
    "                current_num += 1\n",
    "                current_streak += 1\n",
    "\n",
    "            # Update longest streak\n",
    "            longest_streak = max(longest_streak, current_streak)\n",
    "\n",
    "    return longest_streak\n",
    "\n",
    "# Read input\n",
    "n = int(input())\n",
    "arr = list(map(int, input().split()))\n",
    "\n",
    "# Print the length of longest consecutive subsequence\n",
    "print(longest_consecutive_subsequence(arr))\n"
   ]
  },
  {
   "cell_type": "markdown",
   "metadata": {},
   "source": [
    "You are given with an array of numbers, Your task is to print the difference of indices of largest and smallest number.All number are unique.\n",
    "\n",
    "Input Description:\n",
    "First line contains a number ‘n’. Then next line contains n space separated numbers.\n",
    "\n",
    "Output Description:\n",
    "Print the difference of indices of largest and smallest array\n",
    "\n",
    "Sample Input :\n",
    "5\n",
    "1 6 4 0 3\n",
    "Sample Output :\n",
    "-2"
   ]
  },
  {
   "cell_type": "code",
   "execution_count": 5,
   "metadata": {},
   "outputs": [
    {
     "name": "stdout",
     "output_type": "stream",
     "text": [
      "3\n"
     ]
    }
   ],
   "source": [
    "def find_index_difference(n, arr):\n",
    "    if n <= 1:\n",
    "        return 0  # No meaningful difference if there's only one element or less\n",
    "    \n",
    "    min_index = 0\n",
    "    max_index = 0\n",
    "    \n",
    "    # Find indices of smallest and largest numbers\n",
    "    for i in range(1, n):\n",
    "        if arr[i] < arr[min_index]:\n",
    "            min_index = i\n",
    "        if arr[i] > arr[max_index]:\n",
    "            max_index = i\n",
    "            \n",
    "    # Calculate the difference\n",
    "    difference = max_index - min_index\n",
    "    \n",
    "    return difference\n",
    "\n",
    "# Read input\n",
    "n = int(input())\n",
    "arr = list(map(int, input().split()))\n",
    "\n",
    "# Find and print the difference of indices\n",
    "print(find_index_difference(n, arr))\n"
   ]
  },
  {
   "cell_type": "markdown",
   "metadata": {},
   "source": [
    "Assume that you are ticket verifier at a club. Your club has decided to give a special discount to the person(s) who are satisfying the following condition\n",
    "\n",
    " \n",
    "\n",
    "Condition:-\n",
    "\n",
    "If ticket number is divisible by date of month. You are eligible for a discount.\n",
    "\n",
    "Input Description:\n",
    "First line contains input ‘n’.Next line contains n space separated numbers denoting ticket numbers .Next line contains ‘k’ date of the month.\n",
    "\n",
    "Output Description:\n",
    "Print 1 if the ticket is eligible for discount else 0\n",
    "\n",
    "Sample Input :\n",
    "6\n",
    "112 139 165 175 262 130\n",
    "22\n",
    "Sample Output :\n",
    "0 0 0 0 0 0"
   ]
  },
  {
   "cell_type": "code",
   "execution_count": null,
   "metadata": {},
   "outputs": [],
   "source": [
    "def discount(ticket_numbers,k):\n",
    "    results=[]\n",
    "    \n",
    "    for ticket in ticket_numbers:\n",
    "        if ticket%k==0:\n",
    "            results.append(\"1\")\n",
    "        else:\n",
    "            results.append(\"0\")\n",
    "    return \" \".join(results)\n",
    "    \n",
    "n=int(input())\n",
    "\n",
    "ticket_numbers=list(map(int,input().split()))\n",
    "k=int(input())\n",
    "print(discount(ticket_numbers,k))"
   ]
  },
  {
   "cell_type": "markdown",
   "metadata": {},
   "source": [
    "Prateek finds it difficult to judge the minimum element in the list of elements given to him. Your task is to develop the algorithm in order to find the minimum element.\n",
    "\n",
    "Input Description:\n",
    "You are given ‘n’ number of elements. Next line contains n space separated numbers.\n",
    "\n",
    "Output Description:\n",
    "Print the minimum element\n",
    "\n",
    "Sample Input :\n",
    "5\n",
    "3 4 9 1 6\n",
    "Sample Output :\n",
    "1"
   ]
  },
  {
   "cell_type": "code",
   "execution_count": null,
   "metadata": {},
   "outputs": [],
   "source": [
    "def find_mini_number(arr):\n",
    "    min_element=arr[0]\n",
    "    \n",
    "    for num in arr[1:]:\n",
    "        if num < min_element:\n",
    "            min_element=num\n",
    "    \n",
    "    return min_element\n",
    "    \n",
    "n=int(input())\n",
    "arr=list(map(int,input().split()))\n",
    "print(find_mini_number(arr))"
   ]
  },
  {
   "cell_type": "markdown",
   "metadata": {},
   "source": [
    "In a garage the service man takes 10 minutes to service one car.If there are N cars in garage and X is number of minutes after which one person arrives,Calculate how much time last person has to wait in garage.(Print answer in minutes)\n",
    "\n",
    "Input Description:\n",
    "You are given Two numbers ‘N’ and ‘X’\n",
    "\n",
    "Output Description:\n",
    "Waiting time of last person\n",
    "\n",
    "Sample Input :\n",
    "4 5\n",
    "Sample Output :\n",
    "15"
   ]
  },
  {
   "cell_type": "code",
   "execution_count": 8,
   "metadata": {},
   "outputs": [
    {
     "name": "stdout",
     "output_type": "stream",
     "text": [
      "35\n"
     ]
    }
   ],
   "source": [
    "def calculate_waiting_time(N, X):\n",
    "    \n",
    "    total_service_time = N * 10\n",
    "    waiting_time = (N - 1) * 10 + X\n",
    "    return waiting_time\n",
    "\n",
    "N, X = map(int, input().split())\n",
    "\n",
    "# Calculate waiting time for the last person\n",
    "waiting_time = calculate_waiting_time(N, X)\n",
    "\n",
    "# Print the waiting time\n",
    "print(waiting_time)\n"
   ]
  },
  {
   "cell_type": "markdown",
   "metadata": {},
   "source": [
    "You are a software engineer at an MNC. You are given the task of sorting the employees in your company based on their salary. Perform the task so that the employees, including yourself, will get a bonus from the management.\n",
    "\n",
    "CONSTRAINT:\n",
    "\n",
    "0<=salary<=1000000\n",
    "\n",
    " \n",
    "\n",
    "Input Description:\n",
    "Number of employees followed by their name and salary\n",
    "\n",
    "Output Description:\n",
    "Sorted list of employee names\n",
    "\n",
    "Sample Input :\n",
    "3\n",
    "Karthik 23000 rohan 81734 varshini 12343\n",
    "Sample Output :\n",
    "varshini\n",
    "Karthik\n",
    "Rohan"
   ]
  },
  {
   "cell_type": "code",
   "execution_count": 1,
   "metadata": {},
   "outputs": [],
   "source": [
    "def sort_employees():\n",
    "    import sys\n",
    "    input_string=sys.stdin.read().strip()\n",
    "    parts=input_string.split()\n",
    "    num_employess=int(parts[0])\n",
    "    employees=[]\n",
    "\n",
    "    index=1\n",
    "    for i in range(num_employess):\n",
    "        name=parts[index]\n",
    "        salary=int(parts[index+1])\n",
    "        employees.append((salary,name))\n",
    "        index+=2\n",
    "\n",
    "    employees.sort()\n",
    "\n",
    "    sorted_names=[name for _,name in employees]\n",
    "    for name in sorted_names:\n",
    "        print(name)\n",
    "\n",
    "sort_employees()"
   ]
  },
  {
   "cell_type": "markdown",
   "metadata": {},
   "source": [
    "Loki wants to steal the tesseract but in order to do so, he has to rearrange the elements in an array in a specific manner which is mentioned in a clue. The clue says ‘cursed are the odd and sorted are the even’. Loki manages to decode the clue which translates to “sort the even positioned elements of an array, starting from the element at index 0, in ascending order”. Manipulate the array so as to help Loki steal the tesseract.\n",
    " \n",
    "\n",
    "Input Description:\n",
    "Size of the array followed by the elements of the array\n",
    "\n",
    "Output Description:\n",
    "Even index array elements sorted in ascending order\n",
    "\n",
    "Sample Input :\n",
    "5\n",
    "3 9 1 44 6\n",
    "Sample Output :\n",
    "1 9 3 44 6"
   ]
  },
  {
   "cell_type": "code",
   "execution_count": null,
   "metadata": {},
   "outputs": [],
   "source": [
    "def sort_even_indexed_elements(size, arr):\n",
    "    # Extract even-indexed elements\n",
    "    even_indexed_elements = arr[0::2]  # slicing to get elements at even indices (0, 2, 4, ...)\n",
    "    \n",
    "    # Sort even-indexed elements\n",
    "    even_indexed_elements.sort()\n",
    "    \n",
    "    # Replace even-indexed elements in the original array\n",
    "    for i in range(0, size, 2):\n",
    "        arr[i] = even_indexed_elements[i // 2]\n",
    "    \n",
    "    # Print the modified array\n",
    "    print(' '.join(map(str, arr)))\n",
    "\n",
    "# Reading input\n",
    "import sys\n",
    "input = sys.stdin.read().strip().split('\\n')\n",
    "\n",
    "size = int(input[0].strip())\n",
    "arr = list(map(int, input[1].strip().split()))\n",
    "\n",
    "# Call the function to sort even-indexed elements\n",
    "sort_even_indexed_elements(size, arr)\n"
   ]
  },
  {
   "cell_type": "markdown",
   "metadata": {},
   "source": [
    "Ram is the CEO of an MNC. He wants to order the employee salaries in ascending order so that he can do a salary hike based on the salary values of employees. He selects you to do the task of sorting the salaries. Sort the salaries in ascending order and pass on the information to Ram.\n",
    "\n",
    "Input Description:\n",
    "Number of employees followed by the salaries of employees.\n",
    "\n",
    "Output Description:\n",
    "Salaries sorted in ascending order.\n",
    "\n",
    "Sample Input :\n",
    "8\n",
    "7000 8000 6500 1200 4000 2800 3000 5230\n",
    "Sample Output :\n",
    "1200 2800 3000 4000 5230 6500 7000 8000"
   ]
  },
  {
   "cell_type": "code",
   "execution_count": null,
   "metadata": {},
   "outputs": [],
   "source": [
    "def sort_salaries(num_employees, salaries):\n",
    "    # Convert salaries to integers\n",
    "    salaries = list(map(int, salaries))\n",
    "    \n",
    "    # Sort salaries in ascending order\n",
    "    salaries.sort()\n",
    "    \n",
    "    # Print sorted salaries\n",
    "    print(' '.join(map(str, salaries)))\n",
    "\n",
    "# Reading input\n",
    "import sys\n",
    "input = sys.stdin.read().strip().split()\n",
    "\n",
    "num_employees = int(input[0])\n",
    "salaries = input[1:num_employees + 1]\n",
    "\n",
    "# Call the function to sort salaries and print them\n",
    "sort_salaries(num_employees, salaries)\n"
   ]
  }
 ],
 "metadata": {
  "kernelspec": {
   "display_name": ".venv",
   "language": "python",
   "name": "python3"
  },
  "language_info": {
   "codemirror_mode": {
    "name": "ipython",
    "version": 3
   },
   "file_extension": ".py",
   "mimetype": "text/x-python",
   "name": "python",
   "nbconvert_exporter": "python",
   "pygments_lexer": "ipython3",
   "version": "3.11.9"
  }
 },
 "nbformat": 4,
 "nbformat_minor": 2
}
