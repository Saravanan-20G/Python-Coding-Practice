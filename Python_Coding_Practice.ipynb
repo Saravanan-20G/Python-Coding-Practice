{
  "nbformat": 4,
  "nbformat_minor": 0,
  "metadata": {
    "colab": {
      "provenance": [],
      "authorship_tag": "ABX9TyNvIRFmcN5BZ4sdSaE7FrhI",
      "include_colab_link": true
    },
    "kernelspec": {
      "name": "python3",
      "display_name": "Python 3"
    },
    "language_info": {
      "name": "python"
    }
  },
  "cells": [
    {
      "cell_type": "markdown",
      "metadata": {
        "id": "view-in-github",
        "colab_type": "text"
      },
      "source": [
        "<a href=\"https://colab.research.google.com/github/Saravanan-20G/Python-Coding-Practice/blob/main/Python_Coding_Practice.ipynb\" target=\"_parent\"><img src=\"https://colab.research.google.com/assets/colab-badge.svg\" alt=\"Open In Colab\"/></a>"
      ]
    },
    {
      "cell_type": "markdown",
      "source": [
        "order traversal of it.\n",
        "\n",
        "\n",
        "\n",
        "Input Description:\n",
        "You are given with a string ‘s’.\n",
        "\n",
        "Output Description:\n",
        "Print the binary tree’s level order traversal\n",
        "\n",
        "Sample Input :\n",
        "1 0 L 1 2 R\n",
        "Sample Output :\n",
        "1 0 2"
      ],
      "metadata": {
        "id": "oFPDUOkLnLDu"
      }
    },
    {
      "cell_type": "code",
      "source": [
        "class TreeNode:\n",
        "    def __init__(self, val):\n",
        "        self.val = val\n",
        "        self.left = None\n",
        "        self.right = None\n",
        "\n",
        "def build_tree(s):\n",
        "    if not s:\n",
        "        return None\n",
        "\n",
        "    nodes = s.split()\n",
        "    root = TreeNode(int(nodes[0]))\n",
        "    queue = [root]\n",
        "    i = 1\n",
        "\n",
        "    while queue and i < len(nodes):\n",
        "        node = queue.pop(0)\n",
        "        if nodes[i] != 'L':\n",
        "            if nodes[i] != 'R':\n",
        "                node.left = TreeNode(int(nodes[i]))\n",
        "                queue.append(node.left)\n",
        "        i += 1\n",
        "        if i < len(nodes) and nodes[i] != 'R':\n",
        "            if nodes[i] != 'L':\n",
        "                node.right = TreeNode(int(nodes[i]))\n",
        "                queue.append(node.right)\n",
        "        i += 1\n",
        "\n",
        "    return root\n",
        "\n",
        "def inorder_traversal(root):\n",
        "    if not root:\n",
        "        return []\n",
        "    result = []\n",
        "    stack = []\n",
        "    current = root\n",
        "    while stack or current:\n",
        "        while current:\n",
        "            stack.append(current)\n",
        "            current = current.left\n",
        "        current = stack.pop()\n",
        "        result.append(current.val)\n",
        "        current = current.right\n",
        "    return result\n",
        "\n",
        "# Test the function with sample input\n",
        "input_str = \"1 2 L 3 4 R\"\n",
        "root = build_tree(input_str)\n",
        "print(inorder_traversal(root))  # Output: [1, 2, 3, 4]\n"
      ],
      "metadata": {
        "colab": {
          "base_uri": "https://localhost:8080/"
        },
        "id": "UWsjS98XorIi",
        "outputId": "20cbcc62-d810-48d5-f475-f192e18bc44f"
      },
      "execution_count": 11,
      "outputs": [
        {
          "output_type": "stream",
          "name": "stdout",
          "text": [
            "[3, 2, 4, 1]\n"
          ]
        }
      ]
    },
    {
      "cell_type": "markdown",
      "source": [
        "Given a string of length N, find the longest palindromic substring.\n",
        "Input Size : 1 <= N <= 1000\n",
        "Sample Testcase :\n",
        "INPUT\n",
        "DIEHEIDI\n",
        "OUTPUT\n",
        "DIEHEID"
      ],
      "metadata": {
        "id": "gBgKUoa0pKrJ"
      }
    },
    {
      "cell_type": "code",
      "source": [
        "def longest_palindromic_substring(s):\n",
        "    n = len(s)\n",
        "    if n == 0:\n",
        "        return \"\"\n",
        "\n",
        "    # Initialize a 2D DP table to store whether substring i to j is palindrome\n",
        "    dp = [[False] * n for _ in range(n)]\n",
        "\n",
        "    start = 0\n",
        "    max_len = 1\n",
        "\n",
        "    # All substrings of length 1 are palindromes\n",
        "    for i in range(n):\n",
        "        dp[i][i] = True\n",
        "\n",
        "    # Check for substrings of length 2\n",
        "    for i in range(n - 1):\n",
        "        if s[i] == s[i + 1]:\n",
        "            dp[i][i + 1] = True\n",
        "            start = i\n",
        "            max_len = 2\n",
        "\n",
        "    # Check for substrings of length greater than 2\n",
        "    for length in range(3, n + 1):\n",
        "        for i in range(n - length + 1):\n",
        "            j = i + length - 1\n",
        "            if s[i] == s[j] and dp[i + 1][j - 1]:\n",
        "                dp[i][j] = True\n",
        "                start = i\n",
        "                max_len = length\n",
        "\n",
        "    return s[start:start + max_len]\n",
        "\n",
        "# Test the function with sample input\n",
        "input_str = \"DIEHEIDI\"\n",
        "print(longest_palindromic_substring(input_str))  # Output: DIEHEID\n"
      ],
      "metadata": {
        "colab": {
          "base_uri": "https://localhost:8080/"
        },
        "id": "HoHnGMaCpLof",
        "outputId": "f3bd5b80-a401-4c62-d92f-da3bb8409f7a"
      },
      "execution_count": 12,
      "outputs": [
        {
          "output_type": "stream",
          "name": "stdout",
          "text": [
            "DIEHEID\n"
          ]
        }
      ]
    }
  ]
}